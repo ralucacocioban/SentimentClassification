{
 "cells": [
  {
   "cell_type": "markdown",
   "metadata": {},
   "source": [
    "# Exploring Candidate Classification with ML\n",
    "\n",
    "In this notebook, we show how we have built our Candidate classifier."
   ]
  },
  {
   "cell_type": "code",
   "execution_count": 21,
   "metadata": {
    "collapsed": false
   },
   "outputs": [],
   "source": [
    "%matplotlib inline\n",
    "from Politweet import get_tweets\n",
    "import pandas as pd\n",
    "pd.set_option('display.max_colwidth', 1200)\n",
    "\n",
    "# Get the tweets\n",
    "tweets = get_tweets(\"./datasets/tweets.tsv\")"
   ]
  },
  {
   "cell_type": "markdown",
   "metadata": {},
   "source": [
    "## Choosing data for training\n",
    "\n",
    "For train and test, we decide to build a training set from the tweets. The assumption is that all the tweets that are not rated 'OTHER' (hence unrelated) and that mention either Obama or McCain. In this way, we can label a set of tweets based on this heuristics, so that we can learn weights for words and use those to classify other tweets that may not mention Obama or McCain directly, but that refer to them."
   ]
  },
  {
   "cell_type": "code",
   "execution_count": 22,
   "metadata": {
    "collapsed": false
   },
   "outputs": [],
   "source": [
    "import re\n",
    "import ratings\n",
    "from sklearn.cross_validation import train_test_split\n",
    "from Politweet import df_setminus\n",
    "\n",
    "def prepare_sentiment_data(tweets):\n",
    "    obama = tweets[tweets[\"content\"].str.contains('obama', flags=re.IGNORECASE)]\n",
    "    mccain = tweets[tweets[\"content\"].str.contains('mccain', flags=re.IGNORECASE)]\n",
    "    oba_and_mccain = tweets.reindex(obama.index & mccain.index)\n",
    "    oba_or_mccain = tweets.reindex(obama.index | mccain.index)\n",
    "    none = tweets[~(tweets[\"content\"].str.contains('obama|mccain', flags=re.IGNORECASE))]\n",
    "    other = ratings.all(tweets, ratings.OTHER)\n",
    "\n",
    "    only_mccain = df_setminus(mccain, oba_and_mccain)\n",
    "    only_obama = df_setminus(obama, oba_and_mccain)\n",
    "    other_none = df_setminus(df_setminus(other, oba_or_mccain), oba_and_mccain)\n",
    "\n",
    "    oba = [\n",
    "        (t, 'oba')\n",
    "        for i,t in only_obama.iterrows()]\n",
    "\n",
    "    mcc = [\n",
    "        (t, 'mcc')\n",
    "        for i,t in only_mccain.iterrows()]\n",
    "\n",
    "    both = [\n",
    "        (t, 'both')\n",
    "        for i,t in oba_and_mccain.iterrows()]\n",
    "\n",
    "    other = [\n",
    "        (t, 'none')\n",
    "        for i,t in other_none.iterrows()]\n",
    "    print len(oba+mcc+both+other)\n",
    "\n",
    "    train, test = train_test_split(\n",
    "        oba + mcc + both + other, \n",
    "        test_size = .2, \n",
    "        random_state = 20)\n",
    "\n",
    "    return train, test"
   ]
  },
  {
   "cell_type": "markdown",
   "metadata": {},
   "source": [
    "#### Make sure data is tokenized\n",
    "\n",
    "We make sure that we use our pre-processed tokenization for each tweet"
   ]
  },
  {
   "cell_type": "code",
   "execution_count": 23,
   "metadata": {
    "collapsed": true
   },
   "outputs": [],
   "source": [
    "def featurize(tweet):\n",
    "    tokens = [token['lemma'] for token in tweet['clean'] if token['lemma'] != '']\n",
    "    return tokens"
   ]
  },
  {
   "cell_type": "markdown",
   "metadata": {},
   "source": [
    "#### Running a pipeline\n",
    "The strategy is to use the pipeline design pattern.\n",
    "We input data to the pipeline and this will run the pipeline, hence vectorize our input and pass it to the classifier."
   ]
  },
  {
   "cell_type": "code",
   "execution_count": 24,
   "metadata": {
    "collapsed": true
   },
   "outputs": [],
   "source": [
    "from sklearn.metrics import classification_report\n",
    "\n",
    "def run_pipeline(train, test, clsfr):\n",
    "    # fit the classifier with training data\n",
    "    train_x, train_y = zip(*train)\n",
    "    test_x, test_y = zip(*test)\n",
    "    clsfr.fit(train_x, train_y)\n",
    "    # get accuracy on the test\n",
    "    scr = classification_report(clsfr.predict(test_x), test_y)\n",
    "    return scr"
   ]
  },
  {
   "cell_type": "markdown",
   "metadata": {},
   "source": [
    "## TF-IDF + Candidate rules classifier (pipeline)"
   ]
  },
  {
   "cell_type": "markdown",
   "metadata": {},
   "source": [
    "#### Rule Based features\n",
    "This matches Obama or McCain in tweets and adds a new entry candidate(Obama) or candidate(McCain) if encountred. Engineering this feature is going to help us to get 100% accuracy on twits that have this pattern."
   ]
  },
  {
   "cell_type": "code",
   "execution_count": 25,
   "metadata": {
    "collapsed": false
   },
   "outputs": [],
   "source": [
    "from sklearn.base import BaseEstimator, TransformerMixin\n",
    "\n",
    "obama_regex = re.compile(\".*(obama|barack).*\")\n",
    "mccain_regex = re.compile(\".*(mccain|mcpain|).*\")\n",
    "\n",
    "class RuleBasedCandidate(BaseEstimator, TransformerMixin):\n",
    "    \"\"\"Extract features from each document for DictVectorizer\"\"\"\n",
    "\n",
    "    def fit(self, x, y=None):\n",
    "        return self\n",
    "\n",
    "    def featurize(self, document):\n",
    "        document_words = set(document[\"tokens\"])\n",
    "        features = {}\n",
    "        features['candidate(obama)'] = not not obama_regex.match(document[\"content\"])\n",
    "        features['candidate(mccain)'] = not not mccain_regex.match(document[\"content\"])\n",
    "        return features\n",
    "\n",
    "    def transform(self, docs):\n",
    "        return [self.featurize(d) for d in docs]"
   ]
  },
  {
   "cell_type": "markdown",
   "metadata": {},
   "source": [
    "Hence, our pipeline will combine two feature vectors. The first is the TFIDF score of each word in a tweet; the second one will run our rule based system, and give a binary vector of matched candidates."
   ]
  },
  {
   "cell_type": "code",
   "execution_count": 26,
   "metadata": {
    "collapsed": false
   },
   "outputs": [],
   "source": [
    "from sklearn.svm import LinearSVC\n",
    "from sklearn.feature_extraction.text import CountVectorizer\n",
    "from sklearn.feature_extraction import DictVectorizer\n",
    "from sklearn.pipeline import FeatureUnion, Pipeline\n",
    "from sklearn.feature_extraction.text import TfidfTransformer\n",
    "\n",
    "pipeline_candidates = Pipeline([\n",
    "    ('features', FeatureUnion([\n",
    "        ('ngram_tf_id', Pipeline([\n",
    "            ('count', CountVectorizer(tokenizer = featurize, lowercase=False)),\n",
    "            ('tf_id', TfidfTransformer())\n",
    "        ])),\n",
    "        ('rule_based_syste', Pipeline([\n",
    "                ('match', RuleBasedCandidate()),  # returns a list of dicts\n",
    "                ('vect', DictVectorizer()),  # list of dicts -> feature matrix\n",
    "            ]))\n",
    "    ])),\n",
    "    ('classifier', LinearSVC())\n",
    "])"
   ]
  },
  {
   "cell_type": "markdown",
   "metadata": {},
   "source": [
    "## Results\n",
    "\n",
    "In order to evaluate our system, we report precision, recall, f1-score and support for all classes and their average. In addition, we show a confusion matrix that highlights false positive and negatives."
   ]
  },
  {
   "cell_type": "code",
   "execution_count": 31,
   "metadata": {
    "collapsed": false
   },
   "outputs": [
    {
     "name": "stdout",
     "output_type": "stream",
     "text": [
      "1923\n"
     ]
    }
   ],
   "source": [
    "from sklearn.metrics import classification_report\n",
    "\n",
    "train, test = prepare_sentiment_data(tweets)\n",
    "run_pipeline(train, test, pipeline_candidates)\n",
    "test_x, test_y = zip(*test)"
   ]
  },
  {
   "cell_type": "code",
   "execution_count": 32,
   "metadata": {
    "collapsed": false
   },
   "outputs": [
    {
     "name": "stdout",
     "output_type": "stream",
     "text": [
      "             precision    recall  f1-score   support\n",
      "\n",
      "       both       0.89      0.96      0.92        89\n",
      "        mcc       0.95      0.88      0.91       151\n",
      "       none       0.38      1.00      0.55         9\n",
      "        oba       0.99      0.91      0.95       136\n",
      "\n",
      "avg / total       0.94      0.91      0.92       385\n",
      "\n"
     ]
    }
   ],
   "source": [
    "from sklearn.metrics import classification_report\n",
    "print classification_report(pipeline_candidates.predict(test_x), test_y)"
   ]
  },
  {
   "cell_type": "code",
   "execution_count": 33,
   "metadata": {
    "collapsed": false
   },
   "outputs": [
    {
     "name": "stdout",
     "output_type": "stream",
     "text": [
      "[[ 85   4   0   0]\n",
      " [  5 133  12   1]\n",
      " [  0   0   9   0]\n",
      " [  6   3   3 124]]\n"
     ]
    },
    {
     "data": {
      "image/png": "[encoded data removed]",
      "text/plain": [
       "<matplotlib.figure.Figure at 0x11ac884d0>"
      ]
     },
     "metadata": {},
     "output_type": "display_data"
    }
   ],
   "source": [
    "import pylab as plt\n",
    "from sklearn.metrics import confusion_matrix\n",
    "\n",
    "labels = ['both', 'mcc', 'none', 'oba']\n",
    "cm = confusion_matrix(pipeline_candidates.predict(test_x), test_y)\n",
    "\n",
    "print cm\n",
    "\n",
    "fig = plt.figure()\n",
    "ax = fig.add_subplot(111)\n",
    "cax = ax.matshow(cm)\n",
    "plt.title('Confusion matrix of the classifier')\n",
    "fig.colorbar(cax)\n",
    "ax.set_xticklabels([''] + labels)\n",
    "ax.set_yticklabels([''] + labels)\n",
    "plt.xlabel('Predicted')\n",
    "plt.ylabel('True')\n",
    "plt.show()"
   ]
  },
  {
   "cell_type": "markdown",
   "metadata": {},
   "source": [
    "## Predicting and annotating tweets\n",
    "\n",
    "Finally, for the purpose of the visualization, we predict and annotate all the tweets."
   ]
  },
  {
   "cell_type": "code",
   "execution_count": 30,
   "metadata": {
    "collapsed": false
   },
   "outputs": [
    {
     "data": {
      "text/html": [
       "<div style=\"max-height:1000px;max-width:1500px;overflow:auto;\">\n",
       "<table border=\"1\" class=\"dataframe\">\n",
       "  <thead>\n",
       "    <tr style=\"text-align: right;\">\n",
       "      <th></th>\n",
       "      <th>content</th>\n",
       "      <th>candidate</th>\n",
       "    </tr>\n",
       "    <tr>\n",
       "      <th>tweet.id</th>\n",
       "      <th></th>\n",
       "      <th></th>\n",
       "    </tr>\n",
       "  </thead>\n",
       "  <tbody>\n",
       "    <tr>\n",
       "      <th>936469851</th>\n",
       "      <td>                      Watching by myself  #tweetdebate Not drinking :( waiting to start cringing at McCain blunders</td>\n",
       "      <td> mcc</td>\n",
       "    </tr>\n",
       "    <tr>\n",
       "      <th>936470432</th>\n",
       "      <td> @ahg3 @MichDot Yeah, slime was actually my second choice, can't say what the first one was. Okay, we're rolling...</td>\n",
       "      <td> mcc</td>\n",
       "    </tr>\n",
       "  </tbody>\n",
       "</table>\n",
       "</div>"
      ],
      "text/plain": [
       "                                                                                                                      content  \\\n",
       "tweet.id                                                                                                                        \n",
       "936469851                       Watching by myself  #tweetdebate Not drinking :( waiting to start cringing at McCain blunders   \n",
       "936470432  @ahg3 @MichDot Yeah, slime was actually my second choice, can't say what the first one was. Okay, we're rolling...   \n",
       "\n",
       "          candidate  \n",
       "tweet.id             \n",
       "936469851       mcc  \n",
       "936470432       mcc  "
      ]
     },
     "execution_count": 30,
     "metadata": {},
     "output_type": "execute_result"
    }
   ],
   "source": [
    "def df_candidates(tweets):\n",
    "    tweets[\"candidate\"] = pd.Series(pipeline_candidates.predict([t for i,t in tweets.iterrows()]), index=tweets.index)\n",
    "    return tweets\n",
    "\n",
    "df_candidates(tweets)[[\"content\", \"candidate\"]][:2]"
   ]
  },
  {
   "cell_type": "code",
   "execution_count": null,
   "metadata": {
    "collapsed": true
   },
   "outputs": [],
   "source": []
  }
 ],
 "metadata": {
  "kernelspec": {
   "display_name": "Python 2",
   "language": "python",
   "name": "python2"
  },
  "language_info": {
   "codemirror_mode": {
    "name": "ipython",
    "version": 2
   },
   "file_extension": ".py",
   "mimetype": "text/x-python",
   "name": "python",
   "nbconvert_exporter": "python",
   "pygments_lexer": "ipython2",
   "version": "2.7.9"
  }
 },
 "nbformat": 4,
 "nbformat_minor": 0
}
