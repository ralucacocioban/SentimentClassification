{
 "cells": [
  {
   "cell_type": "code",
   "execution_count": 12,
   "metadata": {
    "collapsed": false
   },
   "outputs": [],
   "source": [
    "from __future__ import unicode_literals\n",
    "import classifiers\n",
    "import re\n",
    "import nltk\n",
    "from Politweet import get_tweets, get_transcript\n",
    "import ratings\n",
    "from sentiment import polarity_train, classify, prob_classify, plus_df, minus_df\n",
    "import pandas as pd\n",
    "pd.set_option('display.max_colwidth', 1200)"
   ]
  },
  {
   "cell_type": "code",
   "execution_count": 13,
   "metadata": {
    "collapsed": false
   },
   "outputs": [],
   "source": [
    "tweets = get_tweets(\"./datasets/tweets.tsv\")\n",
    "transcript = get_transcript(\"./datasets/transcript.csv\")\n",
    "todo = set(tweets.index)"
   ]
  },
  {
   "cell_type": "code",
   "execution_count": 14,
   "metadata": {
    "collapsed": true
   },
   "outputs": [],
   "source": [
    "tweets.to_pickle('./datasets/tweets.pickle')"
   ]
  },
  {
   "cell_type": "code",
   "execution_count": 4,
   "metadata": {
    "collapsed": false
   },
   "outputs": [
    {
     "name": "stdout",
     "output_type": "stream",
     "text": [
      "482 - polarity\n"
     ]
    },
    {
     "name": "stderr",
     "output_type": "stream",
     "text": [
      "/Library/Python/2.7/site-packages/pandas/core/strings.py:189: UserWarning: This pattern has match groups. To actually get the groups, use str.extract.\n",
      "  \" groups, use str.extract.\", UserWarning)\n"
     ]
    }
   ],
   "source": [
    "polarity = polarity_train(tweets)\n",
    "polarity_minus = set(i for i,_ in classify(minus_df(tweets), polarity))\n",
    "polarity_plus = set(i for i,_ in classify(plus_df(tweets), polarity))\n",
    "polarities = tweets.reindex(polarity_minus | polarity_plus).sort()\n",
    "print len(polarities), \"- polarity\"\n",
    "todo -= set(polarities.index)"
   ]
  },
  {
   "cell_type": "code",
   "execution_count": 5,
   "metadata": {
    "collapsed": false
   },
   "outputs": [
    {
     "name": "stdout",
     "output_type": "stream",
     "text": [
      "151 - marked as OTHERS\n"
     ]
    }
   ],
   "source": [
    "others = ratings.all(tweets, ratings.OTHER)\n",
    "print len(others), \"- marked as OTHERS\"\n",
    "todo -= set(others.index)"
   ]
  },
  {
   "cell_type": "code",
   "execution_count": 6,
   "metadata": {
    "collapsed": false
   },
   "outputs": [
    {
     "name": "stdout",
     "output_type": "stream",
     "text": [
      "2605 - untagged\n"
     ]
    }
   ],
   "source": [
    "print len(todo), \"- untagged\""
   ]
  },
  {
   "cell_type": "code",
   "execution_count": 7,
   "metadata": {
    "collapsed": false
   },
   "outputs": [
    {
     "data": {
      "text/html": [
       "<div style=\"max-height:1000px;max-width:1500px;overflow:auto;\">\n",
       "<table border=\"1\" class=\"dataframe\">\n",
       "  <thead>\n",
       "    <tr style=\"text-align: right;\">\n",
       "      <th></th>\n",
       "      <th>pub.date.GMT</th>\n",
       "      <th>content</th>\n",
       "      <th>author.name</th>\n",
       "      <th>author.nickname</th>\n",
       "      <th>rating.1</th>\n",
       "      <th>rating.2</th>\n",
       "      <th>rating.3</th>\n",
       "      <th>rating.4</th>\n",
       "      <th>rating.5</th>\n",
       "      <th>rating.6</th>\n",
       "      <th>rating.7</th>\n",
       "      <th>rating.8</th>\n",
       "      <th>clean</th>\n",
       "      <th>tokens</th>\n",
       "    </tr>\n",
       "    <tr>\n",
       "      <th>tweet.id</th>\n",
       "      <th></th>\n",
       "      <th></th>\n",
       "      <th></th>\n",
       "      <th></th>\n",
       "      <th></th>\n",
       "      <th></th>\n",
       "      <th></th>\n",
       "      <th></th>\n",
       "      <th></th>\n",
       "      <th></th>\n",
       "      <th></th>\n",
       "      <th></th>\n",
       "      <th></th>\n",
       "      <th></th>\n",
       "    </tr>\n",
       "  </thead>\n",
       "  <tbody>\n",
       "    <tr>\n",
       "      <th>936466790</th>\n",
       "      <td> 9/27/08 1:00</td>\n",
       "      <td> Jim Lehrer just directed the debate audience ... 30 seconds ... #tweetdebate</td>\n",
       "      <td> B_E_X</td>\n",
       "      <td> Becky L</td>\n",
       "      <td> 4</td>\n",
       "      <td> 2</td>\n",
       "      <td> 4</td>\n",
       "      <td>NaN</td>\n",
       "      <td>NaN</td>\n",
       "      <td>NaN</td>\n",
       "      <td>NaN</td>\n",
       "      <td>NaN</td>\n",
       "      <td> [{u'lemma': u'jim', u'token': u'jim', u'pos': u'NN'}, {u'lemma': u'lehrer', u'token': u'lehrer', u'pos': u'NN'}, {u'lemma': u'direct', u'token': u'directed', u'pos': u'VBN'}, {u'lemma': u'debate', u'token': u'debate', u'pos': u'NN'}, {u'lemma': u'audience', u'token': u'audience', u'pos': u'NN'}, {u'lemma': u'...', u'token': u'...', u'pos': u':'}, {u'lemma': u'30', u'token': u'30', u'pos': u'CD'}, {u'lemma': u'second', u'token': u'seconds', u'pos': u'NNS'}, {u'lemma': u'...', u'token': u'...', u'pos': u':'}, {u'lemma': u'#tweetdebate', u'token': u'#tweetdebate', u'pos': u'NN'}]</td>\n",
       "      <td> [jim, lehrer, direct, debate, audience, 30, second, #tweetdebate]</td>\n",
       "    </tr>\n",
       "  </tbody>\n",
       "</table>\n",
       "</div>"
      ],
      "text/plain": [
       "           pub.date.GMT  \\\n",
       "tweet.id                  \n",
       "936466790  9/27/08 1:00   \n",
       "\n",
       "                                                                                content  \\\n",
       "tweet.id                                                                                  \n",
       "936466790  Jim Lehrer just directed the debate audience ... 30 seconds ... #tweetdebate   \n",
       "\n",
       "          author.name author.nickname  rating.1  rating.2  rating.3  rating.4  \\\n",
       "tweet.id                                                                        \n",
       "936466790       B_E_X         Becky L         4         2         4       NaN   \n",
       "\n",
       "           rating.5  rating.6  rating.7  rating.8  \\\n",
       "tweet.id                                            \n",
       "936466790       NaN       NaN       NaN       NaN   \n",
       "\n",
       "                                                                                                                                                                                                                                                                                                                                                                                                                                                                                                                                                                                                             clean  \\\n",
       "tweet.id                                                                                                                                                                                                                                                                                                                                                                                                                                                                                                                                                                                                             \n",
       "936466790  [{u'lemma': u'jim', u'token': u'jim', u'pos': u'NN'}, {u'lemma': u'lehrer', u'token': u'lehrer', u'pos': u'NN'}, {u'lemma': u'direct', u'token': u'directed', u'pos': u'VBN'}, {u'lemma': u'debate', u'token': u'debate', u'pos': u'NN'}, {u'lemma': u'audience', u'token': u'audience', u'pos': u'NN'}, {u'lemma': u'...', u'token': u'...', u'pos': u':'}, {u'lemma': u'30', u'token': u'30', u'pos': u'CD'}, {u'lemma': u'second', u'token': u'seconds', u'pos': u'NNS'}, {u'lemma': u'...', u'token': u'...', u'pos': u':'}, {u'lemma': u'#tweetdebate', u'token': u'#tweetdebate', u'pos': u'NN'}]   \n",
       "\n",
       "                                                                      tokens  \n",
       "tweet.id                                                                      \n",
       "936466790  [jim, lehrer, direct, debate, audience, 30, second, #tweetdebate]  "
      ]
     },
     "execution_count": 7,
     "metadata": {},
     "output_type": "execute_result"
    }
   ],
   "source": [
    "left = tweets.reindex(todo).sort()\n",
    "left[:1]"
   ]
  },
  {
   "cell_type": "code",
   "execution_count": 11,
   "metadata": {
    "collapsed": false
   },
   "outputs": [
    {
     "ename": "TypeError",
     "evalue": "'function' object is not iterable",
     "output_type": "error",
     "traceback": [
      "\u001b[0;31m---------------------------------------------------------------------------\u001b[0m",
      "\u001b[0;31mTypeError\u001b[0m                                 Traceback (most recent call last)",
      "\u001b[0;32m<ipython-input-11-f0a2d836c1e9>\u001b[0m in \u001b[0;36m<module>\u001b[0;34m()\u001b[0m\n\u001b[0;32m----> 1\u001b[0;31m \u001b[0mleft\u001b[0m\u001b[0;34m[\u001b[0m\u001b[0;34m[\u001b[0m\u001b[0;34m\"content\"\u001b[0m\u001b[0;34m,\u001b[0m\u001b[0;34m\"tokens\"\u001b[0m\u001b[0;34m,\u001b[0m \u001b[0;34m\"clean\"\u001b[0m\u001b[0;34m]\u001b[0m\u001b[0;34m]\u001b[0m\u001b[0;34m.\u001b[0m\u001b[0mfilter\u001b[0m\u001b[0;34m(\u001b[0m\u001b[0;32mlambda\u001b[0m \u001b[0mx\u001b[0m\u001b[0;34m:\u001b[0m \u001b[0;36m1\u001b[0m\u001b[0;34m)\u001b[0m\u001b[0;34m\u001b[0m\u001b[0m\n\u001b[0m",
      "\u001b[0;32m/Library/Python/2.7/site-packages/pandas/core/generic.pyc\u001b[0m in \u001b[0;36mfilter\u001b[0;34m(self, items, like, regex, axis)\u001b[0m\n\u001b[1;32m   1879\u001b[0m \u001b[0;34m\u001b[0m\u001b[0m\n\u001b[1;32m   1880\u001b[0m         \u001b[0;32mif\u001b[0m \u001b[0mitems\u001b[0m \u001b[0;32mis\u001b[0m \u001b[0;32mnot\u001b[0m \u001b[0mNone\u001b[0m\u001b[0;34m:\u001b[0m\u001b[0;34m\u001b[0m\u001b[0m\n\u001b[0;32m-> 1881\u001b[0;31m             return self.reindex(**{axis_name: [r for r in items\n\u001b[0m\u001b[1;32m   1882\u001b[0m                                                if r in axis_values]})\n\u001b[1;32m   1883\u001b[0m         \u001b[0;32melif\u001b[0m \u001b[0mlike\u001b[0m\u001b[0;34m:\u001b[0m\u001b[0;34m\u001b[0m\u001b[0m\n",
      "\u001b[0;31mTypeError\u001b[0m: 'function' object is not iterable"
     ]
    }
   ],
   "source": [
    "left[[\"content\",\"tokens\", \"clean\"]]"
   ]
  },
  {
   "cell_type": "code",
   "execution_count": 9,
   "metadata": {
    "collapsed": false
   },
   "outputs": [
    {
     "name": "stdout",
     "output_type": "stream",
     "text": [
      "[u'watch', u'#tweetdebate', u'drink', u'wait', u'start', u'cringing', u'mccain', u'blunder']\n",
      "[u'@ahg3', u'@michdot', u'yeah', u'slime', u'actually', u'second', u'choice', u'ca', u\"n't\", u'say', u'first', u'one', u'okay', u'roll']\n",
      "[u'prepare', u'heart', u'attack', u'#tweetdebate']\n"
     ]
    }
   ],
   "source": [
    "for i, tweet in tweets[:3].iterrows():\n",
    "    print [token for token in tweet[\"tokens\"]]"
   ]
  },
  {
   "cell_type": "code",
   "execution_count": null,
   "metadata": {
    "collapsed": true
   },
   "outputs": [],
   "source": []
  }
 ],
 "metadata": {
  "kernelspec": {
   "display_name": "Python 2",
   "language": "python",
   "name": "python2"
  },
  "language_info": {
   "codemirror_mode": {
    "name": "ipython",
    "version": 2
   },
   "file_extension": ".py",
   "mimetype": "text/x-python",
   "name": "python",
   "nbconvert_exporter": "python",
   "pygments_lexer": "ipython2",
   "version": "2.7.9"
  }
 },
 "nbformat": 4,
 "nbformat_minor": 0
}
